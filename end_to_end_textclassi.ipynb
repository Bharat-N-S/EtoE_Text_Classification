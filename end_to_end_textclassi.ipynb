{
 "cells": [
  {
   "cell_type": "code",
   "execution_count": 2,
   "metadata": {},
   "outputs": [
    {
     "name": "stdout",
     "output_type": "stream",
     "text": [
      "TensorFlow is using the following GPU(s):\n",
      "PhysicalDevice(name='/physical_device:GPU:0', device_type='GPU')\n",
      "GPU ID: 0, Name: NVIDIA GeForce RTX 3050 Laptop GPU, Load: 0.0%, Memory Free: 3964.0MB, Memory Used: 0.0MB, Memory Total: 4096.0MB\n"
     ]
    }
   ],
   "source": [
    "import tensorflow as tf\n",
    "import GPUtil\n",
    "\n",
    "# Check if TensorFlow sees the GPU\n",
    "gpus = tf.config.list_physical_devices('GPU')\n",
    "if gpus:\n",
    "    print(f\"TensorFlow is using the following GPU(s):\")\n",
    "    for gpu in gpus:\n",
    "        print(gpu)\n",
    "else:\n",
    "    print(\"No GPU detected by TensorFlow.\")\n",
    "\n",
    "# Use GPUtil to get detailed GPU information\n",
    "gpus = GPUtil.getGPUs()\n",
    "for gpu in gpus:\n",
    "    print(f\"GPU ID: {gpu.id}, Name: {gpu.name}, Load: {gpu.load*100}%, Memory Free: {gpu.memoryFree}MB, Memory Used: {gpu.memoryUsed}MB, Memory Total: {gpu.memoryTotal}MB\")\n"
   ]
  },
  {
   "cell_type": "markdown",
   "metadata": {},
   "source": [
    "this is the project of end to end text classfication"
   ]
  },
  {
   "cell_type": "code",
   "execution_count": 3,
   "metadata": {},
   "outputs": [
    {
     "name": "stdout",
     "output_type": "stream",
     "text": [
      "   Id   ProductId          UserId                      ProfileName  \\\n",
      "0   1  B001E4KFG0  A3SGXH7AUHU8GW                       delmartian   \n",
      "1   2  B00813GRG4  A1D87F6ZCVE5NK                           dll pa   \n",
      "2   3  B000LQOCH0   ABXLMWJIXXAIN  Natalia Corres \"Natalia Corres\"   \n",
      "3   4  B000UA0QIQ  A395BORC6FGVXV                             Karl   \n",
      "4   5  B006K2ZZ7K  A1UQRSCLF8GW1T    Michael D. Bigham \"M. Wassir\"   \n",
      "\n",
      "   HelpfulnessNumerator  HelpfulnessDenominator  Score        Time  \\\n",
      "0                     1                       1      5  1303862400   \n",
      "1                     0                       0      1  1346976000   \n",
      "2                     1                       1      4  1219017600   \n",
      "3                     3                       3      2  1307923200   \n",
      "4                     0                       0      5  1350777600   \n",
      "\n",
      "                 Summary                                               Text  \n",
      "0  Good Quality Dog Food  I have bought several of the Vitality canned d...  \n",
      "1      Not as Advertised  Product arrived labeled as Jumbo Salted Peanut...  \n",
      "2  \"Delight\" says it all  This is a confection that has been around a fe...  \n",
      "3         Cough Medicine  If you are looking for the secret ingredient i...  \n",
      "4            Great taffy  Great taffy at a great price.  There was a wid...  \n"
     ]
    }
   ],
   "source": [
    "import pandas as pd\n",
    "\n",
    "# Correct path format for the D drive (using raw string)\n",
    "\n",
    "\n",
    "# Load the dataset\n",
    "data = pd.read_csv('D:\\DataScience\\Reviews\\Reviews.csv')\n",
    "\n",
    "# Display the first few rows\n",
    "print(data.head())\n"
   ]
  },
  {
   "cell_type": "code",
   "execution_count": 4,
   "metadata": {},
   "outputs": [],
   "source": [
    "import pandas as pd\n",
    "import numpy as np\n",
    "import seaborn as sns\n",
    "import matplotlib.pyplot as plt\n",
    "import nltk\n",
    "from nltk.corpus import stopwords\n",
    "from nltk.tokenize import word_tokenize\n",
    "from nltk.stem import WordNetLemmatizer\n",
    "from sklearn.feature_extraction.text import TfidfVectorizer\n",
    "from sklearn.model_selection import train_test_split\n",
    "from sklearn.metrics import accuracy_score, classification_report, confusion_matrix\n",
    "import scipy.sparse as sp\n",
    "from tensorflow.keras import layers, models\n",
    "import tensorflow as tf"
   ]
  },
  {
   "cell_type": "code",
   "execution_count": 5,
   "metadata": {},
   "outputs": [
    {
     "name": "stdout",
     "output_type": "stream",
     "text": [
      "   Id   ProductId          UserId                      ProfileName  \\\n",
      "0   1  B001E4KFG0  A3SGXH7AUHU8GW                       delmartian   \n",
      "1   2  B00813GRG4  A1D87F6ZCVE5NK                           dll pa   \n",
      "2   3  B000LQOCH0   ABXLMWJIXXAIN  Natalia Corres \"Natalia Corres\"   \n",
      "3   4  B000UA0QIQ  A395BORC6FGVXV                             Karl   \n",
      "4   5  B006K2ZZ7K  A1UQRSCLF8GW1T    Michael D. Bigham \"M. Wassir\"   \n",
      "\n",
      "   HelpfulnessNumerator  HelpfulnessDenominator  Score        Time  \\\n",
      "0                     1                       1      5  1303862400   \n",
      "1                     0                       0      1  1346976000   \n",
      "2                     1                       1      4  1219017600   \n",
      "3                     3                       3      2  1307923200   \n",
      "4                     0                       0      5  1350777600   \n",
      "\n",
      "                 Summary                                               Text  \n",
      "0  Good Quality Dog Food  I have bought several of the Vitality canned d...  \n",
      "1      Not as Advertised  Product arrived labeled as Jumbo Salted Peanut...  \n",
      "2  \"Delight\" says it all  This is a confection that has been around a fe...  \n",
      "3         Cough Medicine  If you are looking for the secret ingredient i...  \n",
      "4            Great taffy  Great taffy at a great price.  There was a wid...  \n",
      "Id                         0\n",
      "ProductId                  0\n",
      "UserId                     0\n",
      "ProfileName               26\n",
      "HelpfulnessNumerator       0\n",
      "HelpfulnessDenominator     0\n",
      "Score                      0\n",
      "Time                       0\n",
      "Summary                   27\n",
      "Text                       0\n",
      "dtype: int64\n"
     ]
    }
   ],
   "source": [
    "# Load the dataset\n",
    "data = pd.read_csv('D:\\DataScience\\Reviews\\Reviews.csv')\n",
    "\n",
    "# Display first few rows\n",
    "print(data.head())\n",
    "\n",
    "# Check for missing values\n",
    "print(data.isnull().sum())\n",
    "\n",
    "# Drop rows with missing 'Text' or 'Score'\n",
    "data = data.dropna(subset=['Text', 'Score'])\n",
    "\n",
    "# Remove duplicate rows\n",
    "data = data.drop_duplicates(subset=['UserId', 'ProfileName', 'Time', 'Text'])\n",
    "\n",
    "# Define sentiment labels\n",
    "def label_sentiment(score):\n",
    "    if score in [4, 5]:\n",
    "        return 'Positive'\n",
    "    elif score == 3:\n",
    "        return 'Neutral'\n",
    "    else:\n",
    "        return 'Negative'\n",
    "\n",
    "data['Sentiment'] = data['Score'].apply(label_sentiment)"
   ]
  },
  {
   "cell_type": "code",
   "execution_count": 6,
   "metadata": {},
   "outputs": [
    {
     "name": "stderr",
     "output_type": "stream",
     "text": [
      "[nltk_data] Downloading package stopwords to\n",
      "[nltk_data]     D:/DataScience/nltk_data...\n",
      "[nltk_data]   Package stopwords is already up-to-date!\n",
      "[nltk_data] Downloading package punkt_tab to\n",
      "[nltk_data]     D:/DataScience/nltk_data...\n",
      "[nltk_data]   Package punkt_tab is already up-to-date!\n",
      "[nltk_data] Downloading package wordnet to D:/DataScience/nltk_data...\n",
      "[nltk_data]   Package wordnet is already up-to-date!\n"
     ]
    },
    {
     "data": {
      "text/plain": [
       "True"
      ]
     },
     "execution_count": 6,
     "metadata": {},
     "output_type": "execute_result"
    }
   ],
   "source": [
    "import nltk\n",
    "\n",
    "# Set the NLTK data path\n",
    "nltk.data.path.append('D:/DataScience/nltk_data')\n",
    "\n",
    "# Download necessary data\n",
    "nltk.download('stopwords', download_dir='D:/DataScience/nltk_data')\n",
    "nltk.download('punkt_tab', download_dir='D:/DataScience/nltk_data')\n",
    "nltk.download('wordnet', download_dir='D:/DataScience/nltk_data')\n"
   ]
  },
  {
   "cell_type": "code",
   "execution_count": 7,
   "metadata": {},
   "outputs": [
    {
     "name": "stdout",
     "output_type": "stream",
     "text": [
      "   Id   ProductId          UserId                      ProfileName  \\\n",
      "0   1  B001E4KFG0  A3SGXH7AUHU8GW                       delmartian   \n",
      "1   2  B00813GRG4  A1D87F6ZCVE5NK                           dll pa   \n",
      "2   3  B000LQOCH0   ABXLMWJIXXAIN  Natalia Corres \"Natalia Corres\"   \n",
      "3   4  B000UA0QIQ  A395BORC6FGVXV                             Karl   \n",
      "4   5  B006K2ZZ7K  A1UQRSCLF8GW1T    Michael D. Bigham \"M. Wassir\"   \n",
      "\n",
      "   HelpfulnessNumerator  HelpfulnessDenominator  Score        Time  \\\n",
      "0                     1                       1      5  1303862400   \n",
      "1                     0                       0      1  1346976000   \n",
      "2                     1                       1      4  1219017600   \n",
      "3                     3                       3      2  1307923200   \n",
      "4                     0                       0      5  1350777600   \n",
      "\n",
      "                 Summary                                               Text  \\\n",
      "0  Good Quality Dog Food  I have bought several of the Vitality canned d...   \n",
      "1      Not as Advertised  Product arrived labeled as Jumbo Salted Peanut...   \n",
      "2  \"Delight\" says it all  This is a confection that has been around a fe...   \n",
      "3         Cough Medicine  If you are looking for the secret ingredient i...   \n",
      "4            Great taffy  Great taffy at a great price.  There was a wid...   \n",
      "\n",
      "  Sentiment                                       Cleaned_Text  \n",
      "0  Positive  bought several vitality canned dog food produc...  \n",
      "1  Negative  product arrived labeled jumbo salted peanut pe...  \n",
      "2  Positive  confection around century light pillowy citrus...  \n",
      "3  Negative  looking secret ingredient robitussin believe f...  \n",
      "4  Positive  great taffy great price wide assortment yummy ...  \n"
     ]
    }
   ],
   "source": [
    "\n",
    "nltk.data.path.append(\"D:/DataScience/nltk_data\")\n",
    "from nltk.tokenize import sent_tokenize, word_tokenize \n",
    "# Define preprocessing functions\n",
    "stop_words = set(stopwords.words('english'))\n",
    "lemmatizer = WordNetLemmatizer()\n",
    "\n",
    "def preprocess_text(text):\n",
    "    words = word_tokenize(text.lower())\n",
    "    words = [lemmatizer.lemmatize(word) for word in words if word not in stop_words and word.isalpha()]\n",
    "    return ' '.join(words)\n",
    "\n",
    "# Apply preprocessing\n",
    "data['Cleaned_Text'] = data['Text'].apply(preprocess_text)\n",
    "print(data.head())\n"
   ]
  },
  {
   "cell_type": "code",
   "execution_count": 8,
   "metadata": {},
   "outputs": [],
   "source": [
    "vectorizer = TfidfVectorizer(max_features=5000)\n",
    "X = vectorizer.fit_transform(data['Cleaned_Text'])  # Keep this as a sparse matrix\n",
    "\n",
    "# Encoding the target variable\n",
    "y = data['Sentiment'].map({'Positive': 1, 'Neutral': 0, 'Negative': -1})\n",
    "\n",
    "# Train-test split with sparse matrix\n",
    "X_train, X_val, y_train, y_val = train_test_split(X, y, test_size=0.2, random_state=42)\n"
   ]
  },
  {
   "cell_type": "code",
   "execution_count": 9,
   "metadata": {},
   "outputs": [
    {
     "name": "stdout",
     "output_type": "stream",
     "text": [
      "y_train indices: Index([ 72048, 414504,  15363, 282039,   2660, 532190, 355234,  42118, 246306,\n",
      "       528941,\n",
      "       ...\n",
      "       162958,  60087, 264429, 127092, 139425, 343415, 522737, 156071, 176309,\n",
      "       142746],\n",
      "      dtype='int64', length=315146)\n",
      "X_train indices: range(0, 315146)\n"
     ]
    }
   ],
   "source": [
    "# Check if indices in y_train match indices in X_train\n",
    "print(\"y_train indices:\", y_train.index)\n",
    "print(\"X_train indices:\", range(X_train.shape[0]))\n",
    "\n",
    "# If indices don't match, reindex y_train\n",
    "y_train = y_train.reindex(range(X_train.shape[0]))\n",
    "y_val = y_val.reindex(range(X_val.shape[0]))"
   ]
  },
  {
   "cell_type": "code",
   "execution_count": 10,
   "metadata": {},
   "outputs": [
    {
     "name": "stdout",
     "output_type": "stream",
     "text": [
      "y_train indices: RangeIndex(start=0, stop=315146, step=1)\n",
      "X_train indices: range(0, 315146)\n",
      "Invalid labels in y_train: 1        -1.0\n",
      "2         NaN\n",
      "3        -1.0\n",
      "7         NaN\n",
      "11        NaN\n",
      "         ... \n",
      "315138    NaN\n",
      "315139    NaN\n",
      "315140    NaN\n",
      "315141   -1.0\n",
      "315143   -1.0\n",
      "Name: Sentiment, Length: 150364, dtype: float64\n",
      "Invalid labels in y_val: 0       NaN\n",
      "1       NaN\n",
      "3       NaN\n",
      "4       NaN\n",
      "5       NaN\n",
      "         ..\n",
      "78781   NaN\n",
      "78782   NaN\n",
      "78783   NaN\n",
      "78784   NaN\n",
      "78786   NaN\n",
      "Name: Sentiment, Length: 66855, dtype: float64\n",
      "Num GPUs Available:  1\n",
      "Epoch 1/10\n",
      "5149/5149 [==============================] - 138s 26ms/step - loss: 0.3068 - accuracy: 0.9101 - val_loss: 0.3385 - val_accuracy: 0.8938\n",
      "Epoch 2/10\n",
      "5149/5149 [==============================] - 133s 26ms/step - loss: 0.3033 - accuracy: 0.9101 - val_loss: 0.3384 - val_accuracy: 0.8940\n",
      "Epoch 3/10\n",
      "5149/5149 [==============================] - 133s 26ms/step - loss: 0.2999 - accuracy: 0.9102 - val_loss: 0.3415 - val_accuracy: 0.8941\n",
      "Epoch 4/10\n",
      "5149/5149 [==============================] - 132s 26ms/step - loss: 0.2975 - accuracy: 0.9101 - val_loss: 0.3494 - val_accuracy: 0.8940\n",
      "Epoch 5/10\n",
      "5149/5149 [==============================] - 132s 26ms/step - loss: 0.2949 - accuracy: 0.9102 - val_loss: 0.3436 - val_accuracy: 0.8941\n",
      "Epoch 6/10\n",
      "5149/5149 [==============================] - 132s 26ms/step - loss: 0.2856 - accuracy: 0.9105 - val_loss: 0.3576 - val_accuracy: 0.8936\n",
      "Epoch 7/10\n",
      "5149/5149 [==============================] - 132s 26ms/step - loss: 0.2553 - accuracy: 0.9175 - val_loss: 0.3720 - val_accuracy: 0.8873\n",
      "Epoch 8/10\n",
      "5149/5149 [==============================] - 132s 26ms/step - loss: 0.2017 - accuracy: 0.9340 - val_loss: 0.4084 - val_accuracy: 0.8727\n",
      "Epoch 9/10\n",
      "5149/5149 [==============================] - 133s 26ms/step - loss: 0.1411 - accuracy: 0.9543 - val_loss: 0.4816 - val_accuracy: 0.8734\n",
      "Epoch 10/10\n",
      "5149/5149 [==============================] - 134s 26ms/step - loss: 0.0882 - accuracy: 0.9724 - val_loss: 0.5806 - val_accuracy: 0.8667\n"
     ]
    },
    {
     "data": {
      "image/png": "[encoded data removed]",
      "text/plain": [
       "<Figure size 640x480 with 1 Axes>"
      ]
     },
     "metadata": {},
     "output_type": "display_data"
    }
   ],
   "source": [
    "import numpy as np\n",
    "import tensorflow as tf\n",
    "from tensorflow.keras import layers, models\n",
    "from scipy.sparse import csr_matrix\n",
    "\n",
    "def dense_data_generator(X, y, batch_size):\n",
    "    \"\"\"Generate batches of data for training with dense matrices.\"\"\"\n",
    "    while True:\n",
    "        indices = np.arange(X.shape[0])\n",
    "        np.random.shuffle(indices)\n",
    "        for start in range(0, len(indices), batch_size):\n",
    "            batch_indices = indices[start:start + batch_size]\n",
    "            batch_X = X[batch_indices].toarray()  # Convert sparse batch to dense\n",
    "            batch_y = y.iloc[batch_indices].values  # Use .values to get numpy array\n",
    "\n",
    "            yield batch_X, batch_y\n",
    "\n",
    "# Define CNN Model\n",
    "model = models.Sequential()\n",
    "model.add(layers.InputLayer(input_shape=(5000,)))  # Adjust input shape based on data\n",
    "model.add(layers.Reshape((5000, 1)))  # Reshape to fit Conv1D input\n",
    "model.add(layers.Conv1D(128, kernel_size=3, activation='relu'))\n",
    "model.add(layers.MaxPooling1D(pool_size=2))\n",
    "model.add(layers.Flatten())\n",
    "model.add(layers.Dense(128, activation='relu'))\n",
    "model.add(layers.Dense(3, activation='softmax'))  # 3 output classes: Positive, Neutral, Negative\n",
    "\n",
    "# Compile the CNN model\n",
    "model.compile(optimizer='adam', loss='sparse_categorical_crossentropy', metrics=['accuracy'])\n",
    "\n",
    "# Check if indices in y_train match indices in X_train\n",
    "print(\"y_train indices:\", y_train.index)\n",
    "print(\"X_train indices:\", range(X_train.shape[0]))\n",
    "\n",
    "# If indices don't match, reindex y_train\n",
    "y_train = y_train.reindex(range(X_train.shape[0]))\n",
    "y_val = y_val.reindex(range(X_val.shape[0]))\n",
    "\n",
    "# Parameters\n",
    "# Check for invalid labels in y_train\n",
    "invalid_labels = y_train[~y_train.isin([0, 1, 2])]\n",
    "print(\"Invalid labels in y_train:\", invalid_labels)\n",
    "\n",
    "# Remove rows with invalid labels from both X_train and y_train\n",
    "valid_indices = y_train.isin([0, 1, 2])\n",
    "X_train = X_train[valid_indices]\n",
    "y_train = y_train[valid_indices]\n",
    "\n",
    "# Also do the same for validation set (y_val)\n",
    "invalid_val_labels = y_val[~y_val.isin([0, 1, 2])]\n",
    "print(\"Invalid labels in y_val:\", invalid_val_labels)\n",
    "\n",
    "# Remove rows with invalid labels from X_val and y_val\n",
    "valid_val_indices = y_val.isin([0, 1, 2])\n",
    "X_val = X_val[valid_val_indices]\n",
    "y_val = y_val[valid_val_indices]\n",
    "\n",
    "# Proceed with the same model training\n",
    "batch_size = 32\n",
    "steps_per_epoch = X_train.shape[0] // batch_size\n",
    "validation_steps = X_val.shape[0] // batch_size\n",
    "\n",
    "# Create data generators\n",
    "train_generator = dense_data_generator(X_train, y_train, batch_size)\n",
    "val_generator = dense_data_generator(X_val, y_val, batch_size)\n",
    "\n",
    "import tensorflow as tf\n",
    "print(\"Num GPUs Available: \", len(tf.config.list_physical_devices('GPU')))\n",
    "\n",
    "# Train the CNN model\n",
    "history = model.fit(\n",
    "    train_generator,\n",
    "    steps_per_epoch=steps_per_epoch,\n",
    "    epochs=10,\n",
    "    validation_data=val_generator,\n",
    "    validation_steps=validation_steps\n",
    ")\n",
    "\n",
    "\n",
    "# Plot training history\n",
    "import matplotlib.pyplot as plt\n",
    "\n",
    "plt.plot(history.history['accuracy'], label='accuracy')\n",
    "plt.plot(history.history['val_accuracy'], label='val_accuracy')\n",
    "plt.xlabel('Epoch')\n",
    "plt.ylabel('Accuracy')\n",
    "plt.ylim([0, 1])\n",
    "plt.legend(loc='lower right')\n",
    "plt.show()\n"
   ]
  },
  {
   "cell_type": "code",
   "execution_count": 11,
   "metadata": {},
   "outputs": [
    {
     "name": "stdout",
     "output_type": "stream",
     "text": [
      "372/372 [==============================] - 3s 7ms/step - loss: 0.5801 - accuracy: 0.8669\n",
      "Validation Loss: 0.5800874829292297\n",
      "Validation Accuracy: 0.8669354915618896\n"
     ]
    }
   ],
   "source": [
    "# Evaluate the model on the validation set\n",
    "val_loss, val_accuracy = model.evaluate(val_generator, steps=validation_steps)\n",
    "print(f\"Validation Loss: {val_loss}\")\n",
    "print(f\"Validation Accuracy: {val_accuracy}\")\n"
   ]
  },
  {
   "cell_type": "markdown",
   "metadata": {},
   "source": [
    "-------------------------------------------Fininshed------------------------------------------------------------"
   ]
  }
 ],
 "metadata": {
  "kernelspec": {
   "display_name": "Python 3 (ipykernel)",
   "language": "python",
   "name": "python3"
  }
 },
 "nbformat": 4,
 "nbformat_minor": 2
}
